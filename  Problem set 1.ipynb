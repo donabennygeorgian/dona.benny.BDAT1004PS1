{
 "cells": [
  {
   "cell_type": "markdown",
   "id": "ded6d662",
   "metadata": {},
   "source": [
    "# Question 1"
   ]
  },
  {
   "cell_type": "code",
   "execution_count": 5,
   "id": "42313510",
   "metadata": {},
   "outputs": [
    {
     "name": "stdout",
     "output_type": "stream",
     "text": [
      "<class 'int'>\n",
      "<class 'float'>\n",
      "<class 'bool'>\n",
      "<class 'str'>\n",
      "<class 'int'>\n",
      "<class 'str'>\n",
      "<class 'str'>\n",
      "<class 'float'>\n",
      "<class 'int'>\n",
      "<class 'set'>\n",
      "<class 'bool'>\n",
      "<class 'float'>\n"
     ]
    }
   ],
   "source": [
    "a=5\n",
    "b=5.0\n",
    "c=5>1\n",
    "x='5'\n",
    "y=5 * 2\n",
    "z='5' * 2\n",
    "k='5' + '2'\n",
    "l=5 / 2\n",
    "m=5 % 2\n",
    "n={5, 2, 1}\n",
    "o=5 == 3\n",
    "import math\n",
    "print(type(a))\n",
    "print(type(b))\n",
    "print(type(c))\n",
    "print(type(x))\n",
    "print(type(y))\n",
    "print(type(z))\n",
    "print(type(k))\n",
    "print(type(l))\n",
    "print(type(m))\n",
    "print(type(n))\n",
    "print(type(o))\n",
    "print(type(math.pi))"
   ]
  },
  {
   "cell_type": "markdown",
   "id": "cd03abd6",
   "metadata": {},
   "source": [
    "# Question 2\n"
   ]
  },
  {
   "cell_type": "markdown",
   "id": "1d651d32",
   "metadata": {},
   "source": [
    "### 2a,b"
   ]
  },
  {
   "cell_type": "code",
   "execution_count": 21,
   "id": "e7afc24c",
   "metadata": {},
   "outputs": [
    {
     "name": "stdout",
     "output_type": "stream",
     "text": [
      "34\n",
      "True\n"
     ]
    }
   ],
   "source": [
    "A= 'Supercalifragilisticexpialidocious'\n",
    "print(len(A))\n",
    "print('ice' in A)"
   ]
  },
  {
   "cell_type": "markdown",
   "id": "c3f51f82",
   "metadata": {},
   "source": [
    "### 2c - 'Supercalifragilisticexpialidocious' and 'Bababadalgharaghtakamminarronnkonn' is the longest"
   ]
  },
  {
   "cell_type": "code",
   "execution_count": 26,
   "id": "8f022839",
   "metadata": {},
   "outputs": [
    {
     "name": "stdout",
     "output_type": "stream",
     "text": [
      "34 28 34\n"
     ]
    }
   ],
   "source": [
    "L1= 'Supercalifragilisticexpialidocious'\n",
    "L2= ' Honorificabilitudinitatibus'\n",
    "L3= 'Bababadalgharaghtakamminarronnkonn'\n",
    "print(len(L1),len(L2),len(L3))"
   ]
  },
  {
   "cell_type": "markdown",
   "id": "7adaf19d",
   "metadata": {},
   "source": [
    "### 2d - Bartok comes first"
   ]
  },
  {
   "cell_type": "code",
   "execution_count": 33,
   "id": "ed161ea3",
   "metadata": {},
   "outputs": [
    {
     "name": "stdout",
     "output_type": "stream",
     "text": [
      "['Bartok', 'Bellini', 'Berlioz', 'Bernstein', 'Borodin', 'Brian', 'Buxtehude']\n"
     ]
    }
   ],
   "source": [
    "words = ['Berlioz', 'Borodin', 'Brian','Bartok', 'Bellini', 'Buxtehude', 'Bernstein']\n",
    "words.sort()\n",
    "print(words)"
   ]
  },
  {
   "cell_type": "markdown",
   "id": "16303fcd",
   "metadata": {},
   "source": [
    "# Question 3"
   ]
  },
  {
   "cell_type": "code",
   "execution_count": 6,
   "id": "8b7b290b",
   "metadata": {},
   "outputs": [
    {
     "name": "stdout",
     "output_type": "stream",
     "text": [
      "1.7320508075688772\n"
     ]
    }
   ],
   "source": [
    "import math\n",
    "def trianglearea(a,b,c):\n",
    "    s=(a+b+c)/2\n",
    "    area=math.sqrt((s*(s-a)*(s-b)*(s-c)))\n",
    "    return area\n",
    "\n",
    "print(trianglearea(2,2,2))"
   ]
  },
  {
   "cell_type": "markdown",
   "id": "5dc75dec",
   "metadata": {},
   "source": [
    "# Question 4"
   ]
  },
  {
   "cell_type": "code",
   "execution_count": 53,
   "id": "85dd76e3",
   "metadata": {},
   "outputs": [
    {
     "name": "stdout",
     "output_type": "stream",
     "text": [
      "Input the number of elements to be stored in the array : 5\n",
      "Input 5 elements\n",
      "element 0 :25\n",
      "element 1 :47\n",
      "element 2 :42\n",
      "element 3 :56\n",
      "element 4 :32\n",
      "The even elements are: [42, 56, 32]\n",
      "The odd elements are:  [25, 47]\n"
     ]
    }
   ],
   "source": [
    "def oddeven(num): \n",
    "   evennum = [] \n",
    "   oddnum = [] \n",
    "   for i in num: \n",
    "      if (i % 2 == 0): \n",
    "         evennum.append(i) \n",
    "      else: \n",
    "         oddnum.append(i) \n",
    "   print(\"The even elements are:\", evennum) \n",
    "   print(\"The odd elements are: \", oddnum) \n",
    "  \n",
    "\n",
    "num=list()\n",
    "n=int(input(\"Input the number of elements to be stored in the array : \"))\n",
    "print(\"Input\", n ,\"elements in the array\")\n",
    "for x in range(int(n)):\n",
    "   k=int(input(\"element - {} :\".format(x)))\n",
    "   num.append(k)\n",
    "oddeven(num)"
   ]
  },
  {
   "cell_type": "markdown",
   "id": "d67b73cc",
   "metadata": {},
   "source": [
    "# Question 5"
   ]
  },
  {
   "cell_type": "markdown",
   "id": "aa5ea543",
   "metadata": {},
   "source": [
    "## Question 5a"
   ]
  },
  {
   "cell_type": "code",
   "execution_count": null,
   "id": "0fe060ea",
   "metadata": {},
   "outputs": [],
   "source": [
    " def inside(x,y,x1,y1,x2,y2):\n",
    "    if (x > x1 and x < x2 and\n",
    "        y > y1 and y < y2):\n",
    "        return True\n",
    "    else :\n",
    "        return False\n",
    " \n",
    "# function call\n",
    "    if inside(x,y,x1,y1,x2,y2):"
   ]
  },
  {
   "cell_type": "code",
   "execution_count": 68,
   "id": "8d2e8898",
   "metadata": {},
   "outputs": [
    {
     "data": {
      "text/plain": [
       "True"
      ]
     },
     "execution_count": 68,
     "metadata": {},
     "output_type": "execute_result"
    }
   ],
   "source": [
    "inside(1,1,0,0,2,3)"
   ]
  },
  {
   "cell_type": "code",
   "execution_count": 69,
   "id": "acc7e942",
   "metadata": {},
   "outputs": [
    {
     "data": {
      "text/plain": [
       "False"
      ]
     },
     "execution_count": 69,
     "metadata": {},
     "output_type": "execute_result"
    }
   ],
   "source": [
    "inside(-1,-1,0,0,2,3)"
   ]
  },
  {
   "cell_type": "markdown",
   "id": "f8b2973d",
   "metadata": {},
   "source": [
    "## Question 5b"
   ]
  },
  {
   "cell_type": "code",
   "execution_count": 72,
   "id": "eba98325",
   "metadata": {},
   "outputs": [
    {
     "name": "stdout",
     "output_type": "stream",
     "text": [
      "Given point lies inside the rectangles\n"
     ]
    }
   ],
   "source": [
    "\n",
    "    \n",
    "x1 , y1 , x2 , y2 = 0.3, 0.5, 1.1, 1.7\n",
    "l1 , m1 , l2 , m2 = 0.5, 0.2, 1.1, 2\n",
    "     \n",
    "# given point\n",
    "x, y = 1, 1\n",
    "\n",
    "\n",
    "if inside(x,y,x1,y1,x2,y2) and inside(x,y,l1,m1,l2,m2):\n",
    "    print(\"Given point lies inside\"\n",
    "                \" the rectangles\")\n",
    "else :\n",
    "    print(\"Given point does not lie\"\n",
    "                    \" on the rectangles\")\n",
    "\n",
    "\n"
   ]
  },
  {
   "cell_type": "markdown",
   "id": "888a869a",
   "metadata": {},
   "source": [
    "# Question 6"
   ]
  },
  {
   "cell_type": "code",
   "execution_count": 78,
   "id": "8bc9e776",
   "metadata": {},
   "outputs": [
    {
     "name": "stdout",
     "output_type": "stream",
     "text": [
      "appyhay\n",
      "enterway\n",
      "encilpay\n",
      "otherway\n"
     ]
    }
   ],
   "source": [
    "def pig(text):\n",
    "  words = text.split()\n",
    "  for word in words:\n",
    "    endString = str(word[1:].lower())\n",
    "    vowel = \"aeiou\"\n",
    "    first=word[0].lower()\n",
    "    if first in vowel:\n",
    "        them = str(word[0:]).lower(), 'way'\n",
    "        word = ''.join(them)\n",
    "        return word\n",
    "    else:\n",
    "        them = endString, str(word[0:1]).lower(), 'ay'\n",
    "        word = ''.join(them)\n",
    "        return word\n",
    "\n",
    "print(pig(\"happy\")) \n",
    "print(pig(\"Enter\"))\n",
    "print(pig(\"pencil\"))\n",
    "print(pig(\"Other\"))"
   ]
  },
  {
   "cell_type": "markdown",
   "id": "50806f63",
   "metadata": {},
   "source": [
    "# Question 7"
   ]
  },
  {
   "cell_type": "code",
   "execution_count": 111,
   "id": "efd2777c",
   "metadata": {},
   "outputs": [
    {
     "name": "stdout",
     "output_type": "stream",
     "text": [
      "AB AB B O A A AB O AB A O O A A A O O O AB O A A A A A AB AB A AB O AB O A O O O AB O AB AB AB A A O \n",
      "There are  10  patients of blood type A\n",
      "There are  1  patients of blood type B\n",
      "There are  10  patients of blood type AB\n",
      "There are  12  patients of blood type O\n",
      "There are  0  patients of blood type OO\n"
     ]
    }
   ],
   "source": [
    "f = open('bloodtype.txt')\n",
    "contents= f.read()\n",
    "\n",
    "#bloodtype A\n",
    "a = contents.count(\" A \")\n",
    "print (contents)\n",
    "print (\"There are \", a, \" patients of blood type A\")\n",
    "\n",
    "#bloodtype B\n",
    "b = contents.count(\" B \")\n",
    "print (\"There are \", b, \" patients of blood type B\")\n",
    "\n",
    "#bloodtype AB\n",
    "ab = contents.count(\" AB \")\n",
    "print (\"There are \", ab, \" patients of blood type AB\")\n",
    "\n",
    "#bloodtype O\n",
    "o = contents.count(\" O \")\n",
    "print (\"There are \", o, \" patients of blood type O\")\n",
    "\n",
    "#bloodtype OO\n",
    "oo = contents.count(\" OO \")\n",
    "print (\"There are \", oo, \" patients of blood type OO\")"
   ]
  },
  {
   "cell_type": "markdown",
   "id": "247b4e3e",
   "metadata": {},
   "source": [
    "# Question 8"
   ]
  },
  {
   "cell_type": "code",
   "execution_count": 158,
   "id": "a458297f",
   "metadata": {},
   "outputs": [
    {
     "name": "stdout",
     "output_type": "stream",
     "text": [
      "122.96544\n",
      "1.241401\n"
     ]
    }
   ],
   "source": [
    "dictionary = {}\n",
    "file = open(\"currencies.txt\",\"r\")\n",
    "for line in file:\n",
    " \n",
    "    x = line.split(\"\\t\")\n",
    " \n",
    "    a=x[0]\n",
    "    b=x[1]\n",
    "    dictionary[a]=b\n",
    "\n",
    "def curconv(key,value):\n",
    "    c=float(dictionary[key])*value\n",
    "    return c\n",
    "\n",
    "print(curconv('EUR', 100))\n",
    "print(curconv('JPY', 100))\n",
    "\n"
   ]
  },
  {
   "cell_type": "markdown",
   "id": "1a3dcce6",
   "metadata": {},
   "source": [
    "# Question 9"
   ]
  },
  {
   "cell_type": "code",
   "execution_count": 159,
   "id": "6f1a96a9",
   "metadata": {},
   "outputs": [
    {
     "ename": "TypeError",
     "evalue": "unsupported operand type(s) for +: 'int' and 'str'",
     "output_type": "error",
     "traceback": [
      "\u001b[1;31m---------------------------------------------------------------------------\u001b[0m",
      "\u001b[1;31mTypeError\u001b[0m                                 Traceback (most recent call last)",
      "\u001b[1;32m~\\AppData\\Local\\Temp/ipykernel_4988/3654510999.py\u001b[0m in \u001b[0;36m<module>\u001b[1;34m\u001b[0m\n\u001b[1;32m----> 1\u001b[1;33m \u001b[1;36m6\u001b[0m\u001b[1;33m+\u001b[0m\u001b[0ma\u001b[0m\u001b[1;33m\u001b[0m\u001b[1;33m\u001b[0m\u001b[0m\n\u001b[0m",
      "\u001b[1;31mTypeError\u001b[0m: unsupported operand type(s) for +: 'int' and 'str'"
     ]
    }
   ],
   "source": [
    "6+a"
   ]
  },
  {
   "cell_type": "code",
   "execution_count": 162,
   "id": "6d45215b",
   "metadata": {},
   "outputs": [
    {
     "ename": "IndexError",
     "evalue": "list index out of range",
     "output_type": "error",
     "traceback": [
      "\u001b[1;31m---------------------------------------------------------------------------\u001b[0m",
      "\u001b[1;31mIndexError\u001b[0m                                Traceback (most recent call last)",
      "\u001b[1;32m~\\AppData\\Local\\Temp/ipykernel_4988/2575051440.py\u001b[0m in \u001b[0;36m<module>\u001b[1;34m\u001b[0m\n\u001b[0;32m      1\u001b[0m \u001b[0mnum_list\u001b[0m \u001b[1;33m=\u001b[0m \u001b[1;33m[\u001b[0m\u001b[1;36m0\u001b[0m\u001b[1;33m,\u001b[0m\u001b[1;36m1\u001b[0m\u001b[1;33m,\u001b[0m \u001b[1;36m2\u001b[0m\u001b[1;33m,\u001b[0m \u001b[1;36m3\u001b[0m\u001b[1;33m,\u001b[0m \u001b[1;36m4\u001b[0m\u001b[1;33m,\u001b[0m \u001b[1;36m5\u001b[0m\u001b[1;33m,\u001b[0m \u001b[1;36m6\u001b[0m\u001b[1;33m,\u001b[0m \u001b[1;36m7\u001b[0m\u001b[1;33m,\u001b[0m \u001b[1;36m8\u001b[0m\u001b[1;33m,\u001b[0m \u001b[1;36m9\u001b[0m\u001b[1;33m,\u001b[0m \u001b[1;36m10\u001b[0m\u001b[1;33m]\u001b[0m\u001b[1;33m\u001b[0m\u001b[1;33m\u001b[0m\u001b[0m\n\u001b[1;32m----> 2\u001b[1;33m \u001b[0mprint\u001b[0m\u001b[1;33m(\u001b[0m\u001b[0mnum_list\u001b[0m\u001b[1;33m[\u001b[0m\u001b[1;36m12\u001b[0m\u001b[1;33m]\u001b[0m\u001b[1;33m)\u001b[0m\u001b[1;33m\u001b[0m\u001b[1;33m\u001b[0m\u001b[0m\n\u001b[0m",
      "\u001b[1;31mIndexError\u001b[0m: list index out of range"
     ]
    }
   ],
   "source": [
    "num_list = [0,1, 2, 3, 4, 5, 6, 7, 8, 9, 10]\n",
    "print(num_list[12])"
   ]
  },
  {
   "cell_type": "code",
   "execution_count": 163,
   "id": "542322e0",
   "metadata": {},
   "outputs": [
    {
     "ename": "ValueError",
     "evalue": "math domain error",
     "output_type": "error",
     "traceback": [
      "\u001b[1;31m---------------------------------------------------------------------------\u001b[0m",
      "\u001b[1;31mValueError\u001b[0m                                Traceback (most recent call last)",
      "\u001b[1;32m~\\AppData\\Local\\Temp/ipykernel_4988/1114391229.py\u001b[0m in \u001b[0;36m<module>\u001b[1;34m\u001b[0m\n\u001b[0;32m      1\u001b[0m \u001b[1;32mimport\u001b[0m \u001b[0mmath\u001b[0m\u001b[1;33m\u001b[0m\u001b[1;33m\u001b[0m\u001b[0m\n\u001b[1;32m----> 2\u001b[1;33m \u001b[0mmath\u001b[0m\u001b[1;33m.\u001b[0m\u001b[0msqrt\u001b[0m\u001b[1;33m(\u001b[0m\u001b[1;33m-\u001b[0m\u001b[1;36m1.0\u001b[0m\u001b[1;33m)\u001b[0m\u001b[1;33m\u001b[0m\u001b[1;33m\u001b[0m\u001b[0m\n\u001b[0m",
      "\u001b[1;31mValueError\u001b[0m: math domain error"
     ]
    }
   ],
   "source": [
    "import math\n",
    "math.sqrt(-1.0)"
   ]
  },
  {
   "cell_type": "code",
   "execution_count": 167,
   "id": "ebbdabcb",
   "metadata": {},
   "outputs": [
    {
     "ename": "NameError",
     "evalue": "name 'absent' is not defined",
     "output_type": "error",
     "traceback": [
      "\u001b[1;31m---------------------------------------------------------------------------\u001b[0m",
      "\u001b[1;31mNameError\u001b[0m                                 Traceback (most recent call last)",
      "\u001b[1;32m~\\AppData\\Local\\Temp/ipykernel_4988/874531179.py\u001b[0m in \u001b[0;36m<module>\u001b[1;34m\u001b[0m\n\u001b[1;32m----> 1\u001b[1;33m \u001b[0mprint\u001b[0m\u001b[1;33m(\u001b[0m\u001b[0mabsent\u001b[0m\u001b[1;33m)\u001b[0m\u001b[1;33m\u001b[0m\u001b[1;33m\u001b[0m\u001b[0m\n\u001b[0m",
      "\u001b[1;31mNameError\u001b[0m: name 'absent' is not defined"
     ]
    }
   ],
   "source": [
    "\n",
    "print(absent)"
   ]
  },
  {
   "cell_type": "code",
   "execution_count": 168,
   "id": "60495f30",
   "metadata": {},
   "outputs": [
    {
     "ename": "FileNotFoundError",
     "evalue": "[Errno 2] No such file or directory: 'bloodtypo.txt'",
     "output_type": "error",
     "traceback": [
      "\u001b[1;31m---------------------------------------------------------------------------\u001b[0m",
      "\u001b[1;31mFileNotFoundError\u001b[0m                         Traceback (most recent call last)",
      "\u001b[1;32m~\\AppData\\Local\\Temp/ipykernel_4988/3737023380.py\u001b[0m in \u001b[0;36m<module>\u001b[1;34m\u001b[0m\n\u001b[1;32m----> 1\u001b[1;33m \u001b[0mf\u001b[0m \u001b[1;33m=\u001b[0m \u001b[0mopen\u001b[0m\u001b[1;33m(\u001b[0m\u001b[1;34m'bloodtypo.txt'\u001b[0m\u001b[1;33m)\u001b[0m\u001b[1;33m\u001b[0m\u001b[1;33m\u001b[0m\u001b[0m\n\u001b[0m",
      "\u001b[1;31mFileNotFoundError\u001b[0m: [Errno 2] No such file or directory: 'bloodtypo.txt'"
     ]
    }
   ],
   "source": [
    "f = open('bloodtypo.txt')"
   ]
  },
  {
   "cell_type": "markdown",
   "id": "dafb9f58",
   "metadata": {},
   "source": [
    "# Question 10"
   ]
  },
  {
   "cell_type": "code",
   "execution_count": 153,
   "id": "f425bf09",
   "metadata": {},
   "outputs": [],
   "source": [
    "Alphabet = [\n",
    "    'a','b','c','d','e','f','g','h','i','j','k','l','m',\n",
    "    'n','o','p','q','r','s','t','u','v','w','x','y','z']\n",
    "\n",
    "def frequencies(word):\n",
    "    freq = []\n",
    "    sentence = word.lower()\n",
    "    for i in range(len(Alphabet)):\n",
    "        occurrence = sentence.count(Alphabet[i])\n",
    "        freq.append(occurrence)\n",
    "    return freq"
   ]
  },
  {
   "cell_type": "code",
   "execution_count": 154,
   "id": "1dde0409",
   "metadata": {},
   "outputs": [
    {
     "data": {
      "text/plain": [
       "[1, 1, 1, 3, 5, 1, 1, 2, 1, 0, 1, 0, 1, 2, 4, 0, 1, 2, 0, 3, 1, 0, 1, 1, 0, 0]"
      ]
     },
     "execution_count": 154,
     "metadata": {},
     "output_type": "execute_result"
    }
   ],
   "source": [
    "frequencies('The quick red fox got bored and went home.')"
   ]
  },
  {
   "cell_type": "code",
   "execution_count": 156,
   "id": "c31808fe",
   "metadata": {},
   "outputs": [
    {
     "data": {
      "text/plain": [
       "[1, 0, 0, 0, 1, 0, 0, 0, 0, 0, 0, 1, 0, 0, 0, 2, 0, 0, 0, 0, 0, 0, 0, 0, 0, 0]"
      ]
     },
     "execution_count": 156,
     "metadata": {},
     "output_type": "execute_result"
    }
   ],
   "source": [
    "frequencies('apple')"
   ]
  }
 ],
 "metadata": {
  "kernelspec": {
   "display_name": "Python 3 (ipykernel)",
   "language": "python",
   "name": "python3"
  },
  "language_info": {
   "codemirror_mode": {
    "name": "ipython",
    "version": 3
   },
   "file_extension": ".py",
   "mimetype": "text/x-python",
   "name": "python",
   "nbconvert_exporter": "python",
   "pygments_lexer": "ipython3",
   "version": "3.9.7"
  }
 },
 "nbformat": 4,
 "nbformat_minor": 5
}
